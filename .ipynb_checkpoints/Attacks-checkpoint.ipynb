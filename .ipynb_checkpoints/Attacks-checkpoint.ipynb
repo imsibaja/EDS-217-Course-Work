{
 "cells": [
  {
   "cell_type": "markdown",
   "id": "9b702b83-3d94-4e23-beaf-7e2a32ccd490",
   "metadata": {},
   "source": [
    "# Shark Attack Explorations"
   ]
  },
  {
   "cell_type": "code",
   "execution_count": null,
   "id": "1f421399-4c77-49af-b31c-45a6a6acdd8a",
   "metadata": {
    "tags": []
   },
   "outputs": [],
   "source": [
    "from IPython.display import Image\n",
    "\n",
    "Image(url=\"img/shark1.png\", width = 400, height = 400)"
   ]
  },
  {
   "cell_type": "code",
   "execution_count": null,
   "id": "b0b441f9-20b4-4969-b56e-cdf9834c32ed",
   "metadata": {
    "tags": []
   },
   "outputs": [],
   "source": [
    "# load packages\n",
    "import pandas as pd\n",
    "import numpy as np\n",
    "import seaborn as sns\n",
    "import matplotlib.pyplot as plt"
   ]
  },
  {
   "cell_type": "markdown",
   "id": "f93405f4-4778-4ac3-98a4-f13423212e94",
   "metadata": {
    "tags": []
   },
   "source": [
    "## 1. Import Data"
   ]
  },
  {
   "cell_type": "code",
   "execution_count": null,
   "id": "19ee2334-d083-4318-8101-04da0fabe48f",
   "metadata": {
    "tags": []
   },
   "outputs": [],
   "source": [
    "# read csv file \n",
    "full_attacks = pd.read_csv(\"attacks.csv\")\n",
    "full_attacks.head()"
   ]
  },
  {
   "cell_type": "markdown",
   "id": "b8db4f0c-0dd1-4ffb-98e1-2e28f106dc0e",
   "metadata": {},
   "source": [
    "## 2. Explore Data"
   ]
  },
  {
   "cell_type": "code",
   "execution_count": null,
   "id": "f3d5f310-f56d-4af5-a0dd-c4cc14f84038",
   "metadata": {
    "tags": []
   },
   "outputs": [],
   "source": [
    "# check data types\n",
    "full_attacks.dtypes"
   ]
  },
  {
   "cell_type": "code",
   "execution_count": null,
   "id": "3f847a81-d496-4445-852f-98c63e41f3a8",
   "metadata": {
    "tags": []
   },
   "outputs": [],
   "source": [
    "# check for missing values\n",
    "full_attacks.isnull().sum()"
   ]
  },
  {
   "cell_type": "code",
   "execution_count": null,
   "id": "c4d0d50f-d792-4e69-8e1c-b58aadb95ccc",
   "metadata": {
    "tags": []
   },
   "outputs": [],
   "source": [
    "# size of data\n",
    "full_attacks.shape"
   ]
  },
  {
   "cell_type": "markdown",
   "id": "d9e9a708-06fe-42a3-aded-5acb13fecef2",
   "metadata": {},
   "source": [
    "## 3. Clean Data"
   ]
  },
  {
   "cell_type": "code",
   "execution_count": null,
   "id": "b7d7e844-3536-49a0-a975-059bf2272f16",
   "metadata": {
    "tags": []
   },
   "outputs": [],
   "source": [
    "Image(url=\"img/shark2.png\", width = 400, height = 400)"
   ]
  },
  {
   "cell_type": "code",
   "execution_count": null,
   "id": "98ffd79b-e3e0-4dc2-83c2-7ebd2866025f",
   "metadata": {
    "tags": []
   },
   "outputs": [],
   "source": [
    "# copy data and drop nas\n",
    "attacks_df = full_attacks.copy()\n",
    "attacks_df = attacks_df.dropna(subset=[\"Date\", \"Year\"])\n",
    "print(attacks_df.isnull().sum(), attacks_df.shape)"
   ]
  },
  {
   "cell_type": "code",
   "execution_count": null,
   "id": "cee3a31a-581c-4b38-a24a-6dd5e6eda3e2",
   "metadata": {
    "tags": []
   },
   "outputs": [],
   "source": [
    "# check column names\n",
    "attacks_df.columns"
   ]
  },
  {
   "cell_type": "code",
   "execution_count": null,
   "id": "b442cfb4-7ef0-4c1b-8255-5bafef86b47a",
   "metadata": {
    "tags": []
   },
   "outputs": [],
   "source": [
    "# drop unnecessary columns\n",
    "drop_columns = [\"Case Number\", 'Date', 'Time', 'Investigator or Source',\n",
    "                'pdf', 'href formula', 'href',\n",
    "                'Case Number.1', 'Case Number.2', 'original order',\n",
    "                'Unnamed: 22', 'Unnamed: 23']\n",
    "attacks_df = attacks_df.drop(columns=drop_columns)\n",
    "\n",
    "attacks_df.head()"
   ]
  },
  {
   "cell_type": "code",
   "execution_count": null,
   "id": "cd9a30af-7b58-4c81-9145-eb9cbf552079",
   "metadata": {
    "tags": []
   },
   "outputs": [],
   "source": [
    "# check year format\n",
    "attacks_df[\"Year\"].unique()"
   ]
  },
  {
   "cell_type": "markdown",
   "id": "8d1f4568-b6e2-4622-942d-247a8faad8bf",
   "metadata": {},
   "source": [
    "## 4. Filter Data"
   ]
  },
  {
   "cell_type": "code",
   "execution_count": null,
   "id": "a6410935-d480-4e53-842b-09699f6ab122",
   "metadata": {
    "tags": []
   },
   "outputs": [],
   "source": [
    "# clean years and set range to 1700 - 2018\n",
    "attacks_df[\"Year\"] =  attacks_df[\"Year\"].astype(int)\n",
    "attacks_df =  attacks_df[attacks_df[\"Year\"] >= 1700]\n",
    "attacks_df[\"Year\"] = attacks_df[\"Year\"].astype(str)\n",
    "attacks_df[\"Year\"].unique()"
   ]
  },
  {
   "cell_type": "code",
   "execution_count": null,
   "id": "58fb89a6-5612-431b-946a-68beea7e285e",
   "metadata": {
    "tags": []
   },
   "outputs": [],
   "source": [
    "# convert year object to datetime\n",
    "attacks_df[\"Year\"] =  pd.to_datetime(attacks_df[\"Year\"], format='%Y')\n",
    "attacks_df.head()"
   ]
  },
  {
   "cell_type": "code",
   "execution_count": null,
   "id": "0f962fa7-0cf5-488c-9b2b-fc0c583fccb2",
   "metadata": {},
   "outputs": [],
   "source": [
    "# set the index to year\n",
    "attacks_df = attacks_df.set_index(\"Year\")"
   ]
  },
  {
   "cell_type": "code",
   "execution_count": null,
   "id": "65766bf2-456a-4406-ab50-96351f4ed6cd",
   "metadata": {
    "tags": []
   },
   "outputs": [],
   "source": [
    "# remove unnecessary white space from df\n",
    "attacks_df.columns = attacks_df.columns.str.strip()"
   ]
  },
  {
   "cell_type": "markdown",
   "id": "053fc698-073f-4b5d-8447-6e6f24450492",
   "metadata": {},
   "source": [
    "## 5/6. Sort and Group Data"
   ]
  },
  {
   "cell_type": "code",
   "execution_count": null,
   "id": "855ba6d0-aa42-45b7-a2b5-fa466f8b71ef",
   "metadata": {
    "tags": []
   },
   "outputs": [],
   "source": [
    "Image(url=\"img/shark3.png\", width = 400, height = 400)"
   ]
  },
  {
   "cell_type": "code",
   "execution_count": null,
   "id": "7bd5ff6e-074e-42cc-8c66-9c7d41073b1c",
   "metadata": {
    "tags": []
   },
   "outputs": [],
   "source": [
    "# sort and number of shark attacks by year\n",
    "year_group = attacks_df.groupby(attacks_df.index)\n",
    "year_group_df = year_group[\"Type\"].count().sort_values(ascending=False).head(10)\n",
    "year_group_df"
   ]
  },
  {
   "cell_type": "code",
   "execution_count": null,
   "id": "34842152-7e6a-4187-a9a2-35c69f700d61",
   "metadata": {
    "tags": []
   },
   "outputs": [],
   "source": [
    "# sort and group number of attacks by country\n",
    "country_group = attacks_df.groupby(attacks_df[\"Country\"])\n",
    "country_group_df = country_group[\"Type\"].count().sort_values(ascending=False).head(10)\n",
    "country_group_df"
   ]
  },
  {
   "cell_type": "code",
   "execution_count": null,
   "id": "297b63b0-3a36-4b71-8656-d071afe6f6d8",
   "metadata": {
    "tags": []
   },
   "outputs": [],
   "source": [
    "# sort and group number of attacks by activity\n",
    "activity_group = attacks_df.groupby(attacks_df[\"Activity\"])\n",
    "activity_group = activity_group[\"Type\"].count().sort_values(ascending=False).head(10)\n",
    "activity_group"
   ]
  },
  {
   "cell_type": "code",
   "execution_count": null,
   "id": "8f0d524c-a902-4300-b24a-388f053a7b7f",
   "metadata": {
    "tags": []
   },
   "outputs": [],
   "source": [
    "# sort and group number of attacks by sex\n",
    "sex_group = attacks_df.groupby(attacks_df[\"Sex\"])\n",
    "sex_group_df = sex_group[\"Type\"].count().sort_values(ascending=False).head(3)\n",
    "sex_group_df"
   ]
  },
  {
   "cell_type": "code",
   "execution_count": null,
   "id": "bdd0c114-0210-414e-a808-085caf5974bd",
   "metadata": {
    "tags": []
   },
   "outputs": [],
   "source": [
    "# sort and group number of attacks by severity\n",
    "fatal_group = attacks_df.groupby(attacks_df[\"Fatal (Y/N)\"])\n",
    "fatal_group_df = fatal_group[\"Type\"].count().sort_values(ascending=False).head(3)\n",
    "fatal_group_df"
   ]
  },
  {
   "cell_type": "markdown",
   "id": "490577d6-4261-40b5-88fb-bae92df0d806",
   "metadata": {},
   "source": [
    "## 7. Tranform Data"
   ]
  },
  {
   "cell_type": "code",
   "execution_count": null,
   "id": "fbeabf9c-6775-43ac-b95a-f6231c887987",
   "metadata": {
    "tags": []
   },
   "outputs": [],
   "source": [
    "# create a new column to extract first name\n",
    "attacks_df[\"First_Name\"] = attacks_df[\"Name\"].str.split().str.get(0)"
   ]
  },
  {
   "cell_type": "code",
   "execution_count": null,
   "id": "95529c5e-1183-4e96-aceb-cb1d4c9a66da",
   "metadata": {
    "tags": []
   },
   "outputs": [],
   "source": [
    "# sort and group number of attacks by first name\n",
    "name_group = attacks_df.groupby(attacks_df[\"First_Name\"])\n",
    "name_group_df = name_group[\"Type\"].count().sort_values(ascending=False).head(25)\n",
    "name_group_df = pd.DataFrame(name_group_df)\n",
    "name_group_df"
   ]
  },
  {
   "cell_type": "code",
   "execution_count": null,
   "id": "2b1e143c-3929-4ddb-a7d3-0ea86e352a1e",
   "metadata": {
    "tags": []
   },
   "outputs": [],
   "source": [
    "# group unknown names\n",
    "unknown_names = [\"male\", \"a\", \"female\",\n",
    "                 \"Mr.\", \"2\", \"boat\",\n",
    "                \"boat,\", \"Captain\"]\n",
    "\n",
    "# For any value in our index that matches any value in our unkown names, replace it with\n",
    "# \"unknown\", otherwise leave it alone.\n",
    "\n",
    "name_group_df.index = [\"Unknown\" if fname in unknown_names else fname for fname in name_group_df.index]\n",
    "name_group_df = name_group_df.groupby(name_group_df.index).sum().sort_values(by=\"Type\", ascending=False)\n",
    "name_group_unknown_drop_df = name_group_df.drop(index=\"Unknown\")\n",
    "name_group_unknown_drop_df"
   ]
  },
  {
   "cell_type": "markdown",
   "id": "68875863-81ad-441b-8bef-c0c25e999060",
   "metadata": {},
   "source": [
    "## 9. Visualize Data"
   ]
  },
  {
   "cell_type": "code",
   "execution_count": null,
   "id": "fbd26d27-c7d6-403d-b6aa-c4e071faafdc",
   "metadata": {
    "tags": []
   },
   "outputs": [],
   "source": [
    "# create barplot for shark attacks by activty\n",
    "ax = sns.barplot(data=activity_group)\n",
    "print(plt.xticks(rotation=60))\n",
    "ax.set(ylabel='Count')"
   ]
  },
  {
   "cell_type": "code",
   "execution_count": null,
   "id": "8d8f1309-0dd4-4486-883f-70b167b2e31e",
   "metadata": {
    "tags": []
   },
   "outputs": [],
   "source": [
    "# create barplot for shark attacks by name (unknown included)\n",
    "ax = sns.barplot(data=name_group_df, x=name_group_df.index, y=\"Type\")\n",
    "print(plt.xticks(rotation=60))\n",
    "ax.set(ylabel='Count')"
   ]
  },
  {
   "cell_type": "code",
   "execution_count": null,
   "id": "37cbb06b-4408-4088-b7f0-ee8d3a145a3f",
   "metadata": {
    "tags": []
   },
   "outputs": [],
   "source": [
    "# create barplot for shark attacks by activty (unknown not included)\n",
    "ax = sns.barplot(data=name_group_unknown_drop_df, \n",
    "            x=name_group_unknown_drop_df.index, y=\"Type\")\n",
    "plt.xticks(rotation=60)\n",
    "ax.set(ylabel='Count')"
   ]
  },
  {
   "cell_type": "code",
   "execution_count": null,
   "id": "43c26848-0ca4-4a4e-9b56-bf68d2c79714",
   "metadata": {
    "tags": []
   },
   "outputs": [],
   "source": [
    "# create barplot for shark attacks by sex\n",
    "ax = sns.barplot(data=sex_group_df)\n",
    "ax.set(ylabel='Count')"
   ]
  },
  {
   "cell_type": "code",
   "execution_count": null,
   "id": "cf234bf6-c7ae-4a3e-8dc9-6a476fcab818",
   "metadata": {
    "tags": []
   },
   "outputs": [],
   "source": [
    "# create barplot for shark attacks by severity\n",
    "ax = sns.barplot(data=fatal_group_df)\n",
    "ax.set(ylabel='Count')"
   ]
  },
  {
   "cell_type": "code",
   "execution_count": null,
   "id": "8685ef06-c215-4ffb-945c-f335ea80584e",
   "metadata": {
    "tags": []
   },
   "outputs": [],
   "source": [
    "# create barplot for shark attacks by country\n",
    "ax = sns.barplot(data=country_group_df)\n",
    "plt.xticks(rotation=60)\n",
    "ax.set(ylabel='Count')"
   ]
  },
  {
   "cell_type": "code",
   "execution_count": null,
   "id": "f4ef4d2f-f3c1-4038-9576-b7420be1b005",
   "metadata": {
    "tags": []
   },
   "outputs": [],
   "source": [
    "Image(url=\"img/shark4.png\", width = 400, height = 400)"
   ]
  }
 ],
 "metadata": {
  "kernelspec": {
   "display_name": "Python 3.10.0",
   "language": "python",
   "name": "python3.10.0"
  },
  "language_info": {
   "codemirror_mode": {
    "name": "ipython",
    "version": 3
   },
   "file_extension": ".py",
   "mimetype": "text/x-python",
   "name": "python",
   "nbconvert_exporter": "python",
   "pygments_lexer": "ipython3",
   "version": "3.10.0"
  }
 },
 "nbformat": 4,
 "nbformat_minor": 5
}
